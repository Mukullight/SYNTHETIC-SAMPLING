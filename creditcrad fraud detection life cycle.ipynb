{
 "cells": [
  {
   "cell_type": "code",
   "execution_count": 8,
   "id": "1e2656db",
   "metadata": {},
   "outputs": [
    {
     "data": {
      "text/plain": [
       "'credit_card_fraud_detection_colorful.png'"
      ]
     },
     "execution_count": 8,
     "metadata": {},
     "output_type": "execute_result"
    }
   ],
   "source": [
    "from graphviz import Digraph\n",
    "\n",
    "# Create a Digraph object with a hierarchical layout\n",
    "dot = Digraph(format=\"png\", engine=\"dot\")\n",
    "\n",
    "# Define the nodes and their properties\n",
    "nodes = {\n",
    "    \"Data Collection\": {\"shape\": \"ellipse\", \"style\": \"filled\", \"fillcolor\": \"lightblue\"},\n",
    "    \"Data Preprocessing\": {\"shape\": \"ellipse\", \"style\": \"filled\", \"fillcolor\": \"lightgreen\"},\n",
    "    \"Data Analysis and Exploration\": {\"shape\": \"ellipse\", \"style\": \"filled\", \"fillcolor\": \"lightcoral\"},\n",
    "    \"Model Selection\": {\"shape\": \"ellipse\", \"style\": \"filled\", \"fillcolor\": \"lightyellow\"},\n",
    "    \"Model Training and Validation\": {\"shape\": \"ellipse\", \"style\": \"filled\", \"fillcolor\": \"lightpink\"},\n",
    "    \"Real-time Scoring\": {\"shape\": \"ellipse\", \"style\": \"filled\", \"fillcolor\": \"lightsalmon\"},\n",
    "    \"Threshold Optimization\": {\"shape\": \"ellipse\", \"style\": \"filled\", \"fillcolor\": \"lightseagreen\"},\n",
    "    \"Post-Detection Actions\": {\"shape\": \"ellipse\", \"style\": \"filled\", \"fillcolor\": \"lightskyblue\"},\n",
    "    \"Feedback Loop and Model Retraining\": {\"shape\": \"ellipse\", \"style\": \"filled\", \"fillcolor\": \"lightcoral\"},\n",
    "    \"Regulatory Compliance and Reporting\": {\"shape\": \"ellipse\", \"style\": \"filled\", \"fillcolor\": \"lightblue\"},\n",
    "}\n",
    "\n",
    "# Add nodes to the graph\n",
    "for node, attributes in nodes.items():\n",
    "    dot.node(node, **attributes)\n",
    "\n",
    "# Define the flow between nodes\n",
    "edges = [\n",
    "    (\"Data Collection\", \"Data Preprocessing\"),\n",
    "    (\"Data Preprocessing\", \"Data Analysis and Exploration\"),\n",
    "    (\"Data Analysis and Exploration\", \"Model Selection\"),\n",
    "    (\"Model Selection\", \"Model Training and Validation\"),\n",
    "    (\"Model Training and Validation\", \"Real-time Scoring\"),\n",
    "    (\"Real-time Scoring\", \"Threshold Optimization\"),\n",
    "    (\"Threshold Optimization\", \"Post-Detection Actions\"),\n",
    "    (\"Post-Detection Actions\", \"Feedback Loop and Model Retraining\"),\n",
    "    (\"Feedback Loop and Model Retraining\", \"Regulatory Compliance and Reporting\"),\n",
    "]\n",
    "\n",
    "# Add edges to the graph\n",
    "dot.edges(edges)\n",
    "\n",
    "# Save the flowchart as a PNG image with a customized name\n",
    "dot.render(\"credit_card_fraud_detection_colorful\", view=True)\n"
   ]
  },
  {
   "cell_type": "code",
   "execution_count": 6,
   "id": "99167057",
   "metadata": {},
   "outputs": [],
   "source": [
    "from PIL import Image\n",
    "\n",
    "# Open and display the saved image\n",
    "image = Image.open(\"credit_card_fraud_detection_colorful.png\")\n",
    "image.show()\n"
   ]
  },
  {
   "cell_type": "code",
   "execution_count": null,
   "id": "798c9632",
   "metadata": {},
   "outputs": [],
   "source": []
  }
 ],
 "metadata": {
  "kernelspec": {
   "display_name": "Python 3 (ipykernel)",
   "language": "python",
   "name": "python3"
  },
  "language_info": {
   "codemirror_mode": {
    "name": "ipython",
    "version": 3
   },
   "file_extension": ".py",
   "mimetype": "text/x-python",
   "name": "python",
   "nbconvert_exporter": "python",
   "pygments_lexer": "ipython3",
   "version": "3.9.13"
  }
 },
 "nbformat": 4,
 "nbformat_minor": 5
}
