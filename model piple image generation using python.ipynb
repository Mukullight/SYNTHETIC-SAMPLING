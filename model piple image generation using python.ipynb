{
 "cells": [
  {
   "cell_type": "code",
   "execution_count": 1,
   "id": "4494853b",
   "metadata": {},
   "outputs": [],
   "source": [
    "from diagrams import Diagram, Cluster\n",
    "from diagrams.generic.database import SQL\n",
    "from diagrams.generic.network import Firewall\n",
    "from diagrams.generic.device import Mobile\n",
    "from diagrams.generic.storage import Storage\n",
    "\n",
    "with Diagram(\"Fraud Detection Model\", show=False, direction=\"TB\"):\n",
    "    with Cluster(\"Data Sources\"):\n",
    "        transaction_data = SQL(\"Transaction Data\")\n",
    "        user_data = SQL(\"User Data\")\n",
    "        historical_data = SQL(\"Historical Data\")\n",
    "\n",
    "    with Cluster(\"Data Processing\"):\n",
    "        feature_engineering = Storage(\"Feature Engineering\")\n",
    "        data_cleaning = SQL(\"Data Cleaning\")\n",
    "\n",
    "    with Cluster(\"Machine Learning Model\"):\n",
    "        model = Storage(\"ML Model\")\n",
    "\n",
    "    with Cluster(\"Alerts\"):\n",
    "        alerting = Firewall(\"Alerting\")\n",
    "\n",
    "    transaction_data >> feature_engineering\n",
    "    user_data >> feature_engineering\n",
    "    historical_data >> feature_engineering\n",
    "    feature_engineering >> data_cleaning\n",
    "    data_cleaning >> model\n",
    "    model >> alerting\n"
   ]
  },
  {
   "cell_type": "code",
   "execution_count": 2,
   "id": "fa39f8b1",
   "metadata": {},
   "outputs": [],
   "source": [
    "from PIL import Image\n",
    "\n",
    "# Open and display the saved image\n",
    "image = Image.open(\"fraud_detection_model.png\")\n",
    "image.show()\n"
   ]
  },
  {
   "cell_type": "code",
   "execution_count": null,
   "id": "27d7ae99",
   "metadata": {},
   "outputs": [],
   "source": []
  },
  {
   "cell_type": "code",
   "execution_count": null,
   "id": "b6091280",
   "metadata": {},
   "outputs": [],
   "source": []
  },
  {
   "cell_type": "code",
   "execution_count": null,
   "id": "cb1451f1",
   "metadata": {},
   "outputs": [],
   "source": []
  }
 ],
 "metadata": {
  "kernelspec": {
   "display_name": "Python 3 (ipykernel)",
   "language": "python",
   "name": "python3"
  },
  "language_info": {
   "codemirror_mode": {
    "name": "ipython",
    "version": 3
   },
   "file_extension": ".py",
   "mimetype": "text/x-python",
   "name": "python",
   "nbconvert_exporter": "python",
   "pygments_lexer": "ipython3",
   "version": "3.9.13"
  }
 },
 "nbformat": 4,
 "nbformat_minor": 5
}
